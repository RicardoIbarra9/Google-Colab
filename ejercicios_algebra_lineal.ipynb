{
  "nbformat": 4,
  "nbformat_minor": 0,
  "metadata": {
    "colab": {
      "name": "ejercicios_algebra_lineal.ipynb",
      "provenance": [],
      "authorship_tag": "ABX9TyOvAYbsO9fkcLiXhbF+LtMr",
      "include_colab_link": true
    },
    "kernelspec": {
      "name": "python3",
      "display_name": "Python 3"
    },
    "language_info": {
      "name": "python"
    }
  },
  "cells": [
    {
      "cell_type": "markdown",
      "metadata": {
        "id": "view-in-github",
        "colab_type": "text"
      },
      "source": [
        "<a href=\"https://colab.research.google.com/github/RicardoIbarra9/Google-Colab/blob/main/ejercicios_algebra_lineal.ipynb\" target=\"_parent\"><img src=\"https://colab.research.google.com/assets/colab-badge.svg\" alt=\"Open In Colab\"/></a>"
      ]
    },
    {
      "cell_type": "markdown",
      "source": [
        "# Álgebra lineal"
      ],
      "metadata": {
        "id": "jy4nnefrckvW"
      }
    },
    {
      "cell_type": "markdown",
      "source": [
        "## Ejemplo 1"
      ],
      "metadata": {
        "id": "SYmbocqgeb37"
      }
    },
    {
      "cell_type": "markdown",
      "source": [
        "El módulo de álgebra lineal de NumPy ofrece varios métodos para aplicar álgebra lineal en cualquier matriz numpy.\n",
        "Uno puede encontrar:\n",
        "\n",
        "* rango, determinante, traza, etc. de una matriz.\n",
        "* valores propios de matrices\n",
        "* productos matriciales y vectoriales (producto puntual, interior, exterior, etc.), exponenciación matricial\n",
        "* resuelve ecuaciones lineales o tensoriales y mucho más"
      ],
      "metadata": {
        "id": "1Uym3Lf3tc7j"
      }
    },
    {
      "cell_type": "code",
      "source": [
        "# Importing numpy as np\n",
        "import numpy as np\n",
        " \n",
        "A = np.array([[6, 1, 1],\n",
        "              [4, -2, 5],\n",
        "              [2, 8, 7]])\n",
        " \n",
        "# Rank of a matrix\n",
        "print(\"Rank of A:\", np.linalg.matrix_rank(A))\n",
        " \n",
        "# Trace of matrix A\n",
        "print(\"\\nTrace of A:\", np.trace(A))\n",
        " \n",
        "# Determinant of a matrix\n",
        "print(\"\\nDeterminant of A:\", np.linalg.det(A))\n",
        " \n",
        "# Inverse of matrix A\n",
        "print(\"\\nInverse of A:\\n\", np.linalg.inv(A))\n",
        " \n",
        "print(\"\\nMatrix A raised to power 3:\\n\",\n",
        "           np.linalg.matrix_power(A, 3))"
      ],
      "metadata": {
        "colab": {
          "base_uri": "https://localhost:8080/"
        },
        "id": "KMMwX4IxczDz",
        "outputId": "8d22d506-3c36-439b-9142-528da5a47af5"
      },
      "execution_count": null,
      "outputs": [
        {
          "output_type": "stream",
          "name": "stdout",
          "text": [
            "Rank of A: 3\n",
            "\n",
            "Trace of A: 11\n",
            "\n",
            "Determinant of A: -306.0\n",
            "\n",
            "Inverse of A:\n",
            " [[ 0.17647059 -0.00326797 -0.02287582]\n",
            " [ 0.05882353 -0.13071895  0.08496732]\n",
            " [-0.11764706  0.1503268   0.05228758]]\n",
            "\n",
            "Matrix A raised to power 3:\n",
            " [[336 162 228]\n",
            " [406 162 469]\n",
            " [698 702 905]]\n"
          ]
        }
      ]
    },
    {
      "cell_type": "markdown",
      "source": [
        "## Ejemplo 2"
      ],
      "metadata": {
        "id": "sKYhP_1sfDZq"
      }
    },
    {
      "cell_type": "markdown",
      "source": [
        "numpy.linalg.eigh(a, UPLO='L') : esta función se usa para devolver los valores y vectores propios de un hermitiano complejo (simétrico conjugado) o una matriz simétrica real. Devuelve dos objetos, una matriz 1-D que contiene el valores propios de a, y una matriz o arreglo cuadrado 2-D (según el tipo de entrada) de los vectores propios correspondientes (en columnas)."
      ],
      "metadata": {
        "id": "YIFSGMe0tOc-"
      }
    },
    {
      "cell_type": "code",
      "source": [
        "# Python program explaining\n",
        "# eigh() function\n",
        " \n",
        "from numpy import linalg as geek\n",
        " \n",
        "# Creating an array using array \n",
        "# function\n",
        "a = np.array([[1, -2j], [2j, 5]])\n",
        " \n",
        "print(\"Array is :\",a)\n",
        " \n",
        "# calculating an eigen value\n",
        "# using eigh() function\n",
        "c, d = geek.eigh(a)\n",
        " \n",
        "print(\"Eigen value is :\", c)\n",
        "print(\"Eigen value is :\", d)"
      ],
      "metadata": {
        "colab": {
          "base_uri": "https://localhost:8080/"
        },
        "id": "5G95tAvOfFtu",
        "outputId": "fe655d3f-8e31-4470-ed1d-d879350f8ff7"
      },
      "execution_count": null,
      "outputs": [
        {
          "output_type": "stream",
          "name": "stdout",
          "text": [
            "Array is : [[ 1.+0.j -0.-2.j]\n",
            " [ 0.+2.j  5.+0.j]]\n",
            "Eigen value is : [0.17157288 5.82842712]\n",
            "Eigen value is : [[-0.92387953+0.j         -0.38268343+0.j        ]\n",
            " [ 0.        +0.38268343j  0.        -0.92387953j]]\n"
          ]
        }
      ]
    },
    {
      "cell_type": "markdown",
      "source": [
        "## Ejemplo 3"
      ],
      "metadata": {
        "id": "5H_vetf0fTQg"
      }
    },
    {
      "cell_type": "markdown",
      "source": [
        "numpy.linalg.eig(a) : esta función se utiliza para calcular los valores propios y los vectores propios derechos de una matriz cuadrada."
      ],
      "metadata": {
        "id": "s46LtfInuXIf"
      }
    },
    {
      "cell_type": "code",
      "source": [
        "# Python program explaining\n",
        "# eig() function\n",
        " \n",
        "from numpy import linalg as geek\n",
        " \n",
        "# Creating an array using diag \n",
        "# function\n",
        "a = np.diag((1, 2, 3))\n",
        " \n",
        "print(\"Array is :\",a)\n",
        " \n",
        "# calculating an eigen value\n",
        "# using eig() function\n",
        "c, d = geek.eig(a)\n",
        " \n",
        "print(\"Eigen value is :\",c)\n",
        "print(\"Eigen value is :\",d)"
      ],
      "metadata": {
        "colab": {
          "base_uri": "https://localhost:8080/"
        },
        "id": "rTb8yYxcfVUE",
        "outputId": "85980717-75ed-41d8-b433-580e55f1bcb4"
      },
      "execution_count": null,
      "outputs": [
        {
          "output_type": "stream",
          "name": "stdout",
          "text": [
            "Array is : [[1 0 0]\n",
            " [0 2 0]\n",
            " [0 0 3]]\n",
            "Eigen value is : [1. 2. 3.]\n",
            "Eigen value is : [[1. 0. 0.]\n",
            " [0. 1. 0.]\n",
            " [0. 0. 1.]]\n"
          ]
        }
      ]
    },
    {
      "cell_type": "markdown",
      "source": [
        "## Ejemplo 4"
      ],
      "metadata": {
        "id": "NuR4qSC1ltVS"
      }
    },
    {
      "cell_type": "markdown",
      "source": [
        "numpy.dot(vector_a, vector_b, out = None) : devuelve el producto escalar de los vectores a y b. Puede manejar matrices 2D, pero considerándolas como matriz y realizará la multiplicación de matrices. Para N dimensiones, es un producto de suma sobre el último eje de a y el penúltimo de b:"
      ],
      "metadata": {
        "id": "hJ2Uzhw1ubjW"
      }
    },
    {
      "cell_type": "code",
      "source": [
        "# Python Program illustrating\n",
        "# numpy.dot() method\n",
        " \n",
        "import numpy as geek\n",
        " \n",
        "# Scalars\n",
        "product = geek.dot(5, 4)\n",
        "print(\"Dot Product of scalar values  : \", product)\n",
        " \n",
        "# 1D array\n",
        "vector_a = 2 + 3j\n",
        "vector_b = 4 + 5j\n",
        " \n",
        "product = geek.dot(vector_a, vector_b)\n",
        "print(\"Dot Product  : \", product)"
      ],
      "metadata": {
        "colab": {
          "base_uri": "https://localhost:8080/"
        },
        "id": "kdgpgrZNlu2V",
        "outputId": "aa45dcb9-47cc-48a1-c10f-b3bc778af1dc"
      },
      "execution_count": null,
      "outputs": [
        {
          "output_type": "stream",
          "name": "stdout",
          "text": [
            "Dot Product of scalar values  :  20\n",
            "Dot Product  :  (-7+22j)\n"
          ]
        }
      ]
    },
    {
      "cell_type": "markdown",
      "source": [
        "## Ejemplo 5"
      ],
      "metadata": {
        "id": "uirS5_hil8wd"
      }
    },
    {
      "cell_type": "markdown",
      "source": [
        "numpy.vdot(vector_a, vector_b) : Devuelve el producto escalar de los vectores a y b. Si el primer argumento es complejo, se usa el conjugado complejo del primer argumento (aquí es dondevdot()difiere el funcionamiento deldot()método) para el cálculo del producto escalar. Puede manejar matrices multidimensionales, pero funciona como una matriz aplanada."
      ],
      "metadata": {
        "id": "Qh2mBy6BuiK1"
      }
    },
    {
      "cell_type": "code",
      "source": [
        "# Python Program illustrating\n",
        "# numpy.vdot() method\n",
        " \n",
        "import numpy as geek\n",
        " \n",
        "# 1D array\n",
        "vector_a = 2 + 3j\n",
        "vector_b = 4 + 5j\n",
        " \n",
        "product = geek.vdot(vector_a, vector_b)\n",
        "print(\"Dot Product  : \", product)"
      ],
      "metadata": {
        "colab": {
          "base_uri": "https://localhost:8080/"
        },
        "id": "LiZoYRHel-S9",
        "outputId": "353edf1a-08af-450a-9725-a1ccbdafc362"
      },
      "execution_count": null,
      "outputs": [
        {
          "output_type": "stream",
          "name": "stdout",
          "text": [
            "Dot Product  :  (23-2j)\n"
          ]
        }
      ]
    },
    {
      "cell_type": "markdown",
      "source": [
        "## Ejemplo 6"
      ],
      "metadata": {
        "id": "RzuM9Bx2mJBW"
      }
    },
    {
      "cell_type": "markdown",
      "source": [
        "numpy.linalg.solve() : resuelve una ecuación matricial lineal o un sistema de ecuaciones escalares lineales. Calcula la solución \"exacta\", x, de la ecuación matricial lineal bien determinada, es decir, de rango completo, ax = b."
      ],
      "metadata": {
        "id": "iXkqfj3cujXJ"
      }
    },
    {
      "cell_type": "code",
      "source": [
        "# Python Program illustrating\n",
        "# numpy.linalg.solve() method\n",
        " \n",
        "import numpy as np\n",
        " \n",
        "# Creating an array using array\n",
        "# function\n",
        "a = np.array([[1, 2], [3, 4]])\n",
        " \n",
        "# Creating an array using array\n",
        "# function\n",
        "b = np.array([8, 18])\n",
        " \n",
        "print(\"Solution of linear equations:\", \n",
        "      np.linalg.solve(a, b))"
      ],
      "metadata": {
        "colab": {
          "base_uri": "https://localhost:8080/"
        },
        "id": "Pp8bxfxOmLJk",
        "outputId": "dc6e4bd9-0694-40be-a4b7-d247a09fb227"
      },
      "execution_count": null,
      "outputs": [
        {
          "output_type": "stream",
          "name": "stdout",
          "text": [
            "Solution of linear equations: [2. 3.]\n"
          ]
        }
      ]
    },
    {
      "cell_type": "markdown",
      "source": [
        "## Ejemplo 7"
      ],
      "metadata": {
        "id": "YTfXkS1PmPmQ"
      }
    },
    {
      "cell_type": "markdown",
      "source": [
        "numpy.linalg.lstsq() : Devuelve la solución de mínimos cuadrados a una ecuación matricial lineal. Resuelve la ecuación ax = b calculando un vector x que minimiza la norma euclidiana 2 || b – hacha ||^2 . La ecuación puede estar subdeterminada, bien determinada o sobredeterminada (es decir, el número de filas linealmente independientes de a puede ser menor, igual o mayor que su número de columnas linealmente independientes). Si a es cuadrada y de rango completo, entonces x (excepto por error de redondeo) es la solución “exacta” de la ecuación."
      ],
      "metadata": {
        "id": "p4hRK8urupw2"
      }
    },
    {
      "cell_type": "code",
      "source": [
        "# Python Program illustrating\n",
        "# numpy.linalg.lstsq() method\n",
        " \n",
        " \n",
        "import numpy as np\n",
        "import matplotlib.pyplot as plt\n",
        " \n",
        "# x co-ordinates\n",
        "x = np.arange(0, 9)\n",
        "A = np.array([x, np.ones(9)])\n",
        " \n",
        "# linearly generated sequence\n",
        "y = [19, 20, 20.5, 21.5, 22, 23, 23, 25.5, 24]\n",
        "# obtaining the parameters of regression line\n",
        "w = np.linalg.lstsq(A.T, y)[0] \n",
        " \n",
        "# plotting the line\n",
        "line = w[0]*x + w[1] # regression line\n",
        "plt.plot(x, line, 'r-')\n",
        "plt.plot(x, y, 'o')\n",
        "plt.show()"
      ],
      "metadata": {
        "colab": {
          "base_uri": "https://localhost:8080/",
          "height": 337
        },
        "id": "4nygMzFImSlA",
        "outputId": "a925709e-994c-4b87-85db-24a2f2432217"
      },
      "execution_count": null,
      "outputs": [
        {
          "output_type": "stream",
          "name": "stderr",
          "text": [
            "/usr/local/lib/python3.7/dist-packages/ipykernel_launcher.py:15: FutureWarning: `rcond` parameter will change to the default of machine precision times ``max(M, N)`` where M and N are the input matrix dimensions.\n",
            "To use the future default and silence this warning we advise to pass `rcond=None`, to keep using the old, explicitly pass `rcond=-1`.\n",
            "  from ipykernel import kernelapp as app\n"
          ]
        },
        {
          "output_type": "display_data",
          "data": {
            "image/png": "[encoded data removed]",
            "text/plain": [
              "<Figure size 432x288 with 1 Axes>"
            ]
          },
          "metadata": {
            "needs_background": "light"
          }
        }
      ]
    },
    {
      "cell_type": "markdown",
      "source": [
        "##Ejemplo 8"
      ],
      "metadata": {
        "id": "xv_AHexLnAbz"
      }
    },
    {
      "cell_type": "markdown",
      "source": [
        "numpy.linalg.det() : Calcula el determinante de una matriz."
      ],
      "metadata": {
        "id": "DczAH0FsusLB"
      }
    },
    {
      "cell_type": "code",
      "source": [
        "# Python Program illustrating\n",
        "# numpy.linalg.det() method\n",
        " \n",
        "import numpy as np\n",
        " \n",
        "# creating an array using \n",
        "# array method\n",
        "A = np.array([[6, 1, 1],\n",
        "              [4, -2, 5],\n",
        "              [2, 8, 7]])\n",
        " \n",
        " \n",
        "print(\"\\nDeterminant of A:\", np.linalg.det(A))"
      ],
      "metadata": {
        "colab": {
          "base_uri": "https://localhost:8080/"
        },
        "id": "gA8wvMLtnB-M",
        "outputId": "5811f287-fde8-425c-b25b-6c529d0f6a5b"
      },
      "execution_count": null,
      "outputs": [
        {
          "output_type": "stream",
          "name": "stdout",
          "text": [
            "\n",
            "Determinant of A: -306.0\n"
          ]
        }
      ]
    },
    {
      "cell_type": "markdown",
      "source": [
        "## Ejemplo 9"
      ],
      "metadata": {
        "id": "RInkvFIRnas-"
      }
    },
    {
      "cell_type": "markdown",
      "source": [
        "numpy.trace() : Devuelve la suma a lo largo de las diagonales de la matriz. Si a es 2-D, se devuelve la suma a lo largo de su diagonal con el desplazamiento dado, es decir, la suma de los elementos a[i,i+offset] para todos i.Si a tiene más de dos dimensiones, los ejes especificados por axis1 y axis2 se utilizan para determinar los subconjuntos 2-D cuyas trazas se devuelven. La forma de la matriz resultante es la misma que la de a con axis1 y axis2 eliminados."
      ],
      "metadata": {
        "id": "hQPnvQ9WuvI6"
      }
    },
    {
      "cell_type": "code",
      "source": [
        "# Python Program illustrating\n",
        "# numpy.trace()() method\n",
        " \n",
        "import numpy as np\n",
        " \n",
        "# creating an array using \n",
        "# array method\n",
        "A = np.array([[6, 1, 1],\n",
        "              [4, -2, 5],\n",
        "              [2, 8, 7]])\n",
        " \n",
        " \n",
        "print(\"\\nTrace of A:\", np.trace(A))"
      ],
      "metadata": {
        "colab": {
          "base_uri": "https://localhost:8080/"
        },
        "id": "fs9JPWSDnc8p",
        "outputId": "eb3f14de-2bac-4632-fa57-e0754ad60f6f"
      },
      "execution_count": null,
      "outputs": [
        {
          "output_type": "stream",
          "name": "stdout",
          "text": [
            "\n",
            "Trace of A: 11\n"
          ]
        }
      ]
    }
  ]
}